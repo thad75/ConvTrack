{
 "cells": [
  {
   "cell_type": "code",
   "execution_count": null,
   "id": "19b84c86-d832-40b5-b763-279eaa037840",
   "metadata": {},
   "outputs": [],
   "source": [
    "!HYDRA_FULL_ERROR=1 python my_app.py"
   ]
  },
  {
   "cell_type": "code",
   "execution_count": 2,
   "id": "e3a005ee",
   "metadata": {},
   "outputs": [
    {
     "name": "stdout",
     "output_type": "stream",
     "text": [
      ".\\MOT20\\test\\train\n",
      "loading annotations into memory...\n",
      "Done (t=2.38s)\n",
      "creating index...\n",
      "index created!\n",
      "Creating video index!\n",
      "MOT 2020 is initalized\n"
     ]
    },
    {
     "data": {
      "text/plain": [
       "<dataset.mot20.MOT2020 at 0x1e6008cec70>"
      ]
     },
     "execution_count": 2,
     "metadata": {},
     "output_type": "execute_result"
    }
   ],
   "source": [
    "from dataset.mot20 import build_mot2020\n",
    "\n",
    "path = r\".\\MOT20\\test\"\n",
    "build_mot2020(folder = path)"
   ]
  },
  {
   "cell_type": "code",
   "execution_count": 10,
   "id": "391d5af5",
   "metadata": {},
   "outputs": [],
   "source": [
    "import os\n",
    "\n",
    "os.environ['HYDRA_FULL_ERROR'] = \"1\""
   ]
  }
 ],
 "metadata": {
  "kernelspec": {
   "display_name": "Python 3 (ipykernel)",
   "language": "python",
   "name": "python3"
  },
  "language_info": {
   "codemirror_mode": {
    "name": "ipython",
    "version": 3
   },
   "file_extension": ".py",
   "mimetype": "text/x-python",
   "name": "python",
   "nbconvert_exporter": "python",
   "pygments_lexer": "ipython3",
   "version": "3.9.6"
  },
  "vscode": {
   "interpreter": {
    "hash": "afb2a6796a04da4fb6241da808aec094173f7534d9f3ddcd92f2633572426c79"
   }
  }
 },
 "nbformat": 4,
 "nbformat_minor": 5
}
